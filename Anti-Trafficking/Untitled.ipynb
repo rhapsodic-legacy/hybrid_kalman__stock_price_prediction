{
 "cells": [
  {
   "cell_type": "code",
   "execution_count": 21,
   "metadata": {},
   "outputs": [],
   "source": [
    "import pandas as pd\n",
    "import numpy as np\n",
    "import re\n"
   ]
  },
  {
   "cell_type": "code",
   "execution_count": 2,
   "metadata": {},
   "outputs": [
    {
     "data": {
      "text/html": [
       "<div>\n",
       "<style scoped>\n",
       "    .dataframe tbody tr th:only-of-type {\n",
       "        vertical-align: middle;\n",
       "    }\n",
       "\n",
       "    .dataframe tbody tr th {\n",
       "        vertical-align: top;\n",
       "    }\n",
       "\n",
       "    .dataframe thead th {\n",
       "        text-align: right;\n",
       "    }\n",
       "</style>\n",
       "<table border=\"1\" class=\"dataframe\">\n",
       "  <thead>\n",
       "    <tr style=\"text-align: right;\">\n",
       "      <th></th>\n",
       "      <th>Unnamed: 0</th>\n",
       "      <th>client_id</th>\n",
       "      <th>product_category</th>\n",
       "      <th>product_company</th>\n",
       "      <th>subtype</th>\n",
       "      <th>amount</th>\n",
       "      <th>date</th>\n",
       "      <th>transaction_type</th>\n",
       "    </tr>\n",
       "  </thead>\n",
       "  <tbody>\n",
       "    <tr>\n",
       "      <th>0</th>\n",
       "      <td>34478</td>\n",
       "      <td>37</td>\n",
       "      <td>29</td>\n",
       "      <td>NaN</td>\n",
       "      <td>Автоплатеж</td>\n",
       "      <td>1209</td>\n",
       "      <td>2020-01-01 00:00:00</td>\n",
       "      <td>Negative</td>\n",
       "    </tr>\n",
       "    <tr>\n",
       "      <th>1</th>\n",
       "      <td>65406</td>\n",
       "      <td>71</td>\n",
       "      <td>4</td>\n",
       "      <td>YouTube Music</td>\n",
       "      <td>Подписка</td>\n",
       "      <td>169</td>\n",
       "      <td>2020-01-01 00:00:00</td>\n",
       "      <td>Negative</td>\n",
       "    </tr>\n",
       "  </tbody>\n",
       "</table>\n",
       "</div>"
      ],
      "text/plain": [
       "   Unnamed: 0  client_id  product_category product_company     subtype  \\\n",
       "0       34478         37                29             NaN  Автоплатеж   \n",
       "1       65406         71                 4   YouTube Music    Подписка   \n",
       "\n",
       "   amount                 date transaction_type  \n",
       "0    1209  2020-01-01 00:00:00         Negative  \n",
       "1     169  2020-01-01 00:00:00         Negative  "
      ]
     },
     "execution_count": 2,
     "metadata": {},
     "output_type": "execute_result"
    }
   ],
   "source": [
    "transactions = pd.read_csv(\"transactions.csv\")\n",
    "transactions.head(2)"
   ]
  },
  {
   "cell_type": "code",
   "execution_count": 3,
   "metadata": {},
   "outputs": [
    {
     "data": {
      "text/html": [
       "<div>\n",
       "<style scoped>\n",
       "    .dataframe tbody tr th:only-of-type {\n",
       "        vertical-align: middle;\n",
       "    }\n",
       "\n",
       "    .dataframe tbody tr th {\n",
       "        vertical-align: top;\n",
       "    }\n",
       "\n",
       "    .dataframe thead th {\n",
       "        text-align: right;\n",
       "    }\n",
       "</style>\n",
       "<table border=\"1\" class=\"dataframe\">\n",
       "  <thead>\n",
       "    <tr style=\"text-align: right;\">\n",
       "      <th></th>\n",
       "      <th>client_id</th>\n",
       "      <th>amount</th>\n",
       "      <th>date</th>\n",
       "      <th>transaction_type</th>\n",
       "    </tr>\n",
       "  </thead>\n",
       "  <tbody>\n",
       "    <tr>\n",
       "      <th>38</th>\n",
       "      <td>447</td>\n",
       "      <td>2531</td>\n",
       "      <td>2020-01-01 00:03:58</td>\n",
       "      <td>Positive</td>\n",
       "    </tr>\n",
       "    <tr>\n",
       "      <th>48</th>\n",
       "      <td>883</td>\n",
       "      <td>1387</td>\n",
       "      <td>2020-01-01 00:09:10</td>\n",
       "      <td>Positive</td>\n",
       "    </tr>\n",
       "    <tr>\n",
       "      <th>51</th>\n",
       "      <td>148</td>\n",
       "      <td>1172</td>\n",
       "      <td>2020-01-01 00:09:25</td>\n",
       "      <td>Positive</td>\n",
       "    </tr>\n",
       "    <tr>\n",
       "      <th>68</th>\n",
       "      <td>183</td>\n",
       "      <td>987</td>\n",
       "      <td>2020-01-01 00:18:31</td>\n",
       "      <td>Positive</td>\n",
       "    </tr>\n",
       "    <tr>\n",
       "      <th>99</th>\n",
       "      <td>739</td>\n",
       "      <td>1653</td>\n",
       "      <td>2020-01-01 00:30:49</td>\n",
       "      <td>Positive</td>\n",
       "    </tr>\n",
       "  </tbody>\n",
       "</table>\n",
       "</div>"
      ],
      "text/plain": [
       "    client_id  amount                 date transaction_type\n",
       "38        447    2531  2020-01-01 00:03:58         Positive\n",
       "48        883    1387  2020-01-01 00:09:10         Positive\n",
       "51        148    1172  2020-01-01 00:09:25         Positive\n",
       "68        183     987  2020-01-01 00:18:31         Positive\n",
       "99        739    1653  2020-01-01 00:30:49         Positive"
      ]
     },
     "execution_count": 3,
     "metadata": {},
     "output_type": "execute_result"
    }
   ],
   "source": [
    "transact = transactions.drop(['Unnamed: 0', 'product_category', 'product_company', 'subtype'], axis=1)\n",
    "\n",
    "transact[transact['transaction_type'] == 'Positive'].head(5)"
   ]
  },
  {
   "cell_type": "code",
   "execution_count": 4,
   "metadata": {},
   "outputs": [
    {
     "data": {
      "text/plain": [
       "3716540"
      ]
     },
     "execution_count": 4,
     "metadata": {},
     "output_type": "execute_result"
    }
   ],
   "source": [
    "transact.size"
   ]
  },
  {
   "cell_type": "code",
   "execution_count": 5,
   "metadata": {},
   "outputs": [
    {
     "data": {
      "text/plain": [
       "(929135, 4)"
      ]
     },
     "execution_count": 5,
     "metadata": {},
     "output_type": "execute_result"
    }
   ],
   "source": [
    "transact.shape"
   ]
  },
  {
   "cell_type": "code",
   "execution_count": 6,
   "metadata": {},
   "outputs": [
    {
     "data": {
      "text/html": [
       "<div>\n",
       "<style scoped>\n",
       "    .dataframe tbody tr th:only-of-type {\n",
       "        vertical-align: middle;\n",
       "    }\n",
       "\n",
       "    .dataframe tbody tr th {\n",
       "        vertical-align: top;\n",
       "    }\n",
       "\n",
       "    .dataframe thead th {\n",
       "        text-align: right;\n",
       "    }\n",
       "</style>\n",
       "<table border=\"1\" class=\"dataframe\">\n",
       "  <thead>\n",
       "    <tr style=\"text-align: right;\">\n",
       "      <th></th>\n",
       "      <th>client_id</th>\n",
       "      <th>amount</th>\n",
       "      <th>date</th>\n",
       "      <th>transaction_type</th>\n",
       "    </tr>\n",
       "  </thead>\n",
       "  <tbody>\n",
       "    <tr>\n",
       "      <th>304473</th>\n",
       "      <td>1</td>\n",
       "      <td>58</td>\n",
       "      <td>2020-04-29 21:47:55</td>\n",
       "      <td>Negative</td>\n",
       "    </tr>\n",
       "    <tr>\n",
       "      <th>397721</th>\n",
       "      <td>1</td>\n",
       "      <td>297</td>\n",
       "      <td>2020-06-05 18:50:08</td>\n",
       "      <td>Negative</td>\n",
       "    </tr>\n",
       "    <tr>\n",
       "      <th>697827</th>\n",
       "      <td>1</td>\n",
       "      <td>1831</td>\n",
       "      <td>2020-10-02 00:10:16</td>\n",
       "      <td>Positive</td>\n",
       "    </tr>\n",
       "    <tr>\n",
       "      <th>359803</th>\n",
       "      <td>1</td>\n",
       "      <td>65</td>\n",
       "      <td>2020-05-21 20:29:01</td>\n",
       "      <td>Negative</td>\n",
       "    </tr>\n",
       "    <tr>\n",
       "      <th>474644</th>\n",
       "      <td>1</td>\n",
       "      <td>2405</td>\n",
       "      <td>2020-07-06 01:35:15</td>\n",
       "      <td>Negative</td>\n",
       "    </tr>\n",
       "    <tr>\n",
       "      <th>...</th>\n",
       "      <td>...</td>\n",
       "      <td>...</td>\n",
       "      <td>...</td>\n",
       "      <td>...</td>\n",
       "    </tr>\n",
       "    <tr>\n",
       "      <th>333654</th>\n",
       "      <td>1000</td>\n",
       "      <td>3735</td>\n",
       "      <td>2020-05-11 11:26:23</td>\n",
       "      <td>Negative</td>\n",
       "    </tr>\n",
       "    <tr>\n",
       "      <th>612935</th>\n",
       "      <td>1000</td>\n",
       "      <td>2814</td>\n",
       "      <td>2020-08-29 10:38:17</td>\n",
       "      <td>Negative</td>\n",
       "    </tr>\n",
       "    <tr>\n",
       "      <th>386533</th>\n",
       "      <td>1000</td>\n",
       "      <td>518</td>\n",
       "      <td>2020-06-01 07:39:19</td>\n",
       "      <td>Negative</td>\n",
       "    </tr>\n",
       "    <tr>\n",
       "      <th>584621</th>\n",
       "      <td>1000</td>\n",
       "      <td>75</td>\n",
       "      <td>2020-08-18 09:39:45</td>\n",
       "      <td>Negative</td>\n",
       "    </tr>\n",
       "    <tr>\n",
       "      <th>775232</th>\n",
       "      <td>1000</td>\n",
       "      <td>54</td>\n",
       "      <td>2020-11-01 10:41:58</td>\n",
       "      <td>Negative</td>\n",
       "    </tr>\n",
       "  </tbody>\n",
       "</table>\n",
       "<p>929135 rows × 4 columns</p>\n",
       "</div>"
      ],
      "text/plain": [
       "        client_id  amount                 date transaction_type\n",
       "304473          1      58  2020-04-29 21:47:55         Negative\n",
       "397721          1     297  2020-06-05 18:50:08         Negative\n",
       "697827          1    1831  2020-10-02 00:10:16         Positive\n",
       "359803          1      65  2020-05-21 20:29:01         Negative\n",
       "474644          1    2405  2020-07-06 01:35:15         Negative\n",
       "...           ...     ...                  ...              ...\n",
       "333654       1000    3735  2020-05-11 11:26:23         Negative\n",
       "612935       1000    2814  2020-08-29 10:38:17         Negative\n",
       "386533       1000     518  2020-06-01 07:39:19         Negative\n",
       "584621       1000      75  2020-08-18 09:39:45         Negative\n",
       "775232       1000      54  2020-11-01 10:41:58         Negative\n",
       "\n",
       "[929135 rows x 4 columns]"
      ]
     },
     "execution_count": 6,
     "metadata": {},
     "output_type": "execute_result"
    }
   ],
   "source": [
    "transact.sort_values('client_id')"
   ]
  },
  {
   "cell_type": "code",
   "execution_count": 7,
   "metadata": {},
   "outputs": [
    {
     "data": {
      "text/plain": [
       "1070457"
      ]
     },
     "execution_count": 7,
     "metadata": {},
     "output_type": "execute_result"
    }
   ],
   "source": [
    "t = transact\n",
    "t['amount'][t['client_id'] == 1000].sum()"
   ]
  },
  {
   "cell_type": "code",
   "execution_count": 8,
   "metadata": {},
   "outputs": [],
   "source": [
    "df1 = pd.read_csv(\"transactions_1.csv\")"
   ]
  },
  {
   "cell_type": "code",
   "execution_count": 9,
   "metadata": {},
   "outputs": [],
   "source": [
    "df2 = pd.read_csv(\"transactions_2.csv\")"
   ]
  },
  {
   "cell_type": "code",
   "execution_count": 10,
   "metadata": {},
   "outputs": [],
   "source": [
    "df3 = pd.read_csv(\"transactions_3.csv\")"
   ]
  },
  {
   "cell_type": "code",
   "execution_count": 11,
   "metadata": {},
   "outputs": [],
   "source": [
    "df4 = pd.read_csv(\"transactions_4.csv\")"
   ]
  },
  {
   "cell_type": "code",
   "execution_count": 12,
   "metadata": {},
   "outputs": [],
   "source": [
    "df5 = pd.read_csv(\"transactions_5.csv\")"
   ]
  },
  {
   "cell_type": "code",
   "execution_count": 13,
   "metadata": {},
   "outputs": [],
   "source": [
    "df6 = pd.read_csv(\"transactions_6.csv\")"
   ]
  },
  {
   "cell_type": "code",
   "execution_count": 14,
   "metadata": {},
   "outputs": [],
   "source": [
    "df7 = pd.read_csv(\"transactions_7.csv\")"
   ]
  },
  {
   "cell_type": "code",
   "execution_count": 15,
   "metadata": {},
   "outputs": [],
   "source": [
    "df8 = pd.read_csv(\"transactions_8.csv\")"
   ]
  },
  {
   "cell_type": "code",
   "execution_count": 16,
   "metadata": {},
   "outputs": [],
   "source": [
    "df9 = pd.read_csv(\"transactions_9.csv\")"
   ]
  },
  {
   "cell_type": "code",
   "execution_count": 17,
   "metadata": {},
   "outputs": [],
   "source": [
    "df10 = pd.read_csv(\"transactions_10.csv\")"
   ]
  },
  {
   "cell_type": "code",
   "execution_count": 18,
   "metadata": {},
   "outputs": [
    {
     "data": {
      "text/html": [
       "<div>\n",
       "<style scoped>\n",
       "    .dataframe tbody tr th:only-of-type {\n",
       "        vertical-align: middle;\n",
       "    }\n",
       "\n",
       "    .dataframe tbody tr th {\n",
       "        vertical-align: top;\n",
       "    }\n",
       "\n",
       "    .dataframe thead th {\n",
       "        text-align: right;\n",
       "    }\n",
       "</style>\n",
       "<table border=\"1\" class=\"dataframe\">\n",
       "  <thead>\n",
       "    <tr style=\"text-align: right;\">\n",
       "      <th></th>\n",
       "      <th>client_id</th>\n",
       "      <th>amount</th>\n",
       "      <th>sent(0=no)</th>\n",
       "      <th>contact_id</th>\n",
       "      <th>date</th>\n",
       "      <th>time</th>\n",
       "    </tr>\n",
       "  </thead>\n",
       "  <tbody>\n",
       "    <tr>\n",
       "      <th>0</th>\n",
       "      <td>417</td>\n",
       "      <td>$92.52</td>\n",
       "      <td>1</td>\n",
       "      <td>441</td>\n",
       "      <td>7/25/2020</td>\n",
       "      <td>5:35</td>\n",
       "    </tr>\n",
       "    <tr>\n",
       "      <th>1</th>\n",
       "      <td>356</td>\n",
       "      <td>$21.19</td>\n",
       "      <td>0</td>\n",
       "      <td>125</td>\n",
       "      <td>8/10/2020</td>\n",
       "      <td>8:20</td>\n",
       "    </tr>\n",
       "    <tr>\n",
       "      <th>2</th>\n",
       "      <td>484</td>\n",
       "      <td>$20.24</td>\n",
       "      <td>1</td>\n",
       "      <td>51</td>\n",
       "      <td>10/14/2020</td>\n",
       "      <td>4:01</td>\n",
       "    </tr>\n",
       "    <tr>\n",
       "      <th>3</th>\n",
       "      <td>474</td>\n",
       "      <td>$94.20</td>\n",
       "      <td>1</td>\n",
       "      <td>206</td>\n",
       "      <td>10/5/2020</td>\n",
       "      <td>4:03</td>\n",
       "    </tr>\n",
       "    <tr>\n",
       "      <th>4</th>\n",
       "      <td>388</td>\n",
       "      <td>$67.04</td>\n",
       "      <td>0</td>\n",
       "      <td>244</td>\n",
       "      <td>10/5/2020</td>\n",
       "      <td>5:08</td>\n",
       "    </tr>\n",
       "  </tbody>\n",
       "</table>\n",
       "</div>"
      ],
      "text/plain": [
       "   client_id  amount  sent(0=no)  contact_id        date  time\n",
       "0        417  $92.52           1         441   7/25/2020  5:35\n",
       "1        356  $21.19           0         125   8/10/2020  8:20\n",
       "2        484  $20.24           1          51  10/14/2020  4:01\n",
       "3        474  $94.20           1         206   10/5/2020  4:03\n",
       "4        388  $67.04           0         244   10/5/2020  5:08"
      ]
     },
     "execution_count": 18,
     "metadata": {},
     "output_type": "execute_result"
    }
   ],
   "source": [
    "dfz = df1.append(df2).append(df3).append(df4).append(df5).append(df6).append(df7).append(df8).append(df9).append(df10)\n",
    "dfz.head()"
   ]
  },
  {
   "cell_type": "code",
   "execution_count": 19,
   "metadata": {},
   "outputs": [
    {
     "data": {
      "text/plain": [
       "(10000, 6)"
      ]
     },
     "execution_count": 19,
     "metadata": {},
     "output_type": "execute_result"
    }
   ],
   "source": [
    "dfz.shape"
   ]
  },
  {
   "cell_type": "code",
   "execution_count": 71,
   "metadata": {},
   "outputs": [
    {
     "data": {
      "text/html": [
       "<div>\n",
       "<style scoped>\n",
       "    .dataframe tbody tr th:only-of-type {\n",
       "        vertical-align: middle;\n",
       "    }\n",
       "\n",
       "    .dataframe tbody tr th {\n",
       "        vertical-align: top;\n",
       "    }\n",
       "\n",
       "    .dataframe thead th {\n",
       "        text-align: right;\n",
       "    }\n",
       "</style>\n",
       "<table border=\"1\" class=\"dataframe\">\n",
       "  <thead>\n",
       "    <tr style=\"text-align: right;\">\n",
       "      <th></th>\n",
       "      <th>client_id</th>\n",
       "      <th>amount</th>\n",
       "      <th>sent(0=no)</th>\n",
       "      <th>contact_id</th>\n",
       "      <th>date</th>\n",
       "      <th>time</th>\n",
       "    </tr>\n",
       "  </thead>\n",
       "  <tbody>\n",
       "    <tr>\n",
       "      <th>209</th>\n",
       "      <td>1</td>\n",
       "      <td>$344.89</td>\n",
       "      <td>0</td>\n",
       "      <td>125</td>\n",
       "      <td>4/3/2020</td>\n",
       "      <td>20:26</td>\n",
       "    </tr>\n",
       "    <tr>\n",
       "      <th>636</th>\n",
       "      <td>1</td>\n",
       "      <td>$34.39</td>\n",
       "      <td>0</td>\n",
       "      <td>302</td>\n",
       "      <td>8/30/2020</td>\n",
       "      <td>9:04</td>\n",
       "    </tr>\n",
       "    <tr>\n",
       "      <th>827</th>\n",
       "      <td>1</td>\n",
       "      <td>$66.75</td>\n",
       "      <td>0</td>\n",
       "      <td>284</td>\n",
       "      <td>12/19/2020</td>\n",
       "      <td>8:19</td>\n",
       "    </tr>\n",
       "    <tr>\n",
       "      <th>228</th>\n",
       "      <td>1</td>\n",
       "      <td>$17.38</td>\n",
       "      <td>0</td>\n",
       "      <td>372</td>\n",
       "      <td>11/25/2020</td>\n",
       "      <td>17:43</td>\n",
       "    </tr>\n",
       "    <tr>\n",
       "      <th>575</th>\n",
       "      <td>1</td>\n",
       "      <td>$183.21</td>\n",
       "      <td>0</td>\n",
       "      <td>188</td>\n",
       "      <td>4/20/2020</td>\n",
       "      <td>11:56</td>\n",
       "    </tr>\n",
       "    <tr>\n",
       "      <th>...</th>\n",
       "      <td>...</td>\n",
       "      <td>...</td>\n",
       "      <td>...</td>\n",
       "      <td>...</td>\n",
       "      <td>...</td>\n",
       "      <td>...</td>\n",
       "    </tr>\n",
       "    <tr>\n",
       "      <th>647</th>\n",
       "      <td>485</td>\n",
       "      <td>$541.65</td>\n",
       "      <td>0</td>\n",
       "      <td>437</td>\n",
       "      <td>10/24/2020</td>\n",
       "      <td>19:33</td>\n",
       "    </tr>\n",
       "    <tr>\n",
       "      <th>40</th>\n",
       "      <td>485</td>\n",
       "      <td>$1024.91</td>\n",
       "      <td>0</td>\n",
       "      <td>156</td>\n",
       "      <td>8/18/2020</td>\n",
       "      <td>15:34</td>\n",
       "    </tr>\n",
       "    <tr>\n",
       "      <th>888</th>\n",
       "      <td>485</td>\n",
       "      <td>$574.90</td>\n",
       "      <td>0</td>\n",
       "      <td>379</td>\n",
       "      <td>9/13/2020</td>\n",
       "      <td>23:30</td>\n",
       "    </tr>\n",
       "    <tr>\n",
       "      <th>200</th>\n",
       "      <td>485</td>\n",
       "      <td>$327.15</td>\n",
       "      <td>1</td>\n",
       "      <td>458</td>\n",
       "      <td>10/13/2020</td>\n",
       "      <td>13:07</td>\n",
       "    </tr>\n",
       "    <tr>\n",
       "      <th>97</th>\n",
       "      <td>485</td>\n",
       "      <td>$226.80</td>\n",
       "      <td>1</td>\n",
       "      <td>297</td>\n",
       "      <td>7/23/2020</td>\n",
       "      <td>2:22</td>\n",
       "    </tr>\n",
       "  </tbody>\n",
       "</table>\n",
       "<p>10000 rows × 6 columns</p>\n",
       "</div>"
      ],
      "text/plain": [
       "     client_id    amount  sent(0=no)  contact_id        date   time\n",
       "209          1   $344.89           0         125    4/3/2020  20:26\n",
       "636          1    $34.39           0         302   8/30/2020   9:04\n",
       "827          1    $66.75           0         284  12/19/2020   8:19\n",
       "228          1    $17.38           0         372  11/25/2020  17:43\n",
       "575          1   $183.21           0         188   4/20/2020  11:56\n",
       "..         ...       ...         ...         ...         ...    ...\n",
       "647        485   $541.65           0         437  10/24/2020  19:33\n",
       "40         485  $1024.91           0         156   8/18/2020  15:34\n",
       "888        485   $574.90           0         379   9/13/2020  23:30\n",
       "200        485   $327.15           1         458  10/13/2020  13:07\n",
       "97         485   $226.80           1         297   7/23/2020   2:22\n",
       "\n",
       "[10000 rows x 6 columns]"
      ]
     },
     "execution_count": 71,
     "metadata": {},
     "output_type": "execute_result"
    }
   ],
   "source": [
    "dfz.sort_values('client_id')"
   ]
  },
  {
   "cell_type": "code",
   "execution_count": 72,
   "metadata": {},
   "outputs": [
    {
     "data": {
      "text/plain": [
       "'$19.66$38.06$18.68$0.49$6.70$124.93$109.67$121.50$28.47$56.00$51.00$226.80$216.63$285.59$129.79$327.15$37.07$450.40$108.53$540.13$166.37$131.11$866.68$574.90$1024.91$442.36$1851.52$541.65$1291.72$1554.07'"
      ]
     },
     "execution_count": 72,
     "metadata": {},
     "output_type": "execute_result"
    }
   ],
   "source": [
    "dfz['amount'][dfz['client_id'] == 485].sum()"
   ]
  },
  {
   "cell_type": "code",
   "execution_count": 25,
   "metadata": {},
   "outputs": [],
   "source": [
    "num = r'([0-9]{1-5}.[0-9]{2})'"
   ]
  },
  {
   "cell_type": "code",
   "execution_count": 59,
   "metadata": {},
   "outputs": [
    {
     "data": {
      "text/html": [
       "<div>\n",
       "<style scoped>\n",
       "    .dataframe tbody tr th:only-of-type {\n",
       "        vertical-align: middle;\n",
       "    }\n",
       "\n",
       "    .dataframe tbody tr th {\n",
       "        vertical-align: top;\n",
       "    }\n",
       "\n",
       "    .dataframe thead th {\n",
       "        text-align: right;\n",
       "    }\n",
       "</style>\n",
       "<table border=\"1\" class=\"dataframe\">\n",
       "  <thead>\n",
       "    <tr style=\"text-align: right;\">\n",
       "      <th></th>\n",
       "      <th>client_id</th>\n",
       "      <th>amount</th>\n",
       "      <th>sent(0=no)</th>\n",
       "      <th>contact_id</th>\n",
       "      <th>date</th>\n",
       "      <th>time</th>\n",
       "    </tr>\n",
       "  </thead>\n",
       "  <tbody>\n",
       "    <tr>\n",
       "      <th>0</th>\n",
       "      <td>417</td>\n",
       "      <td>$92.52</td>\n",
       "      <td>1</td>\n",
       "      <td>441</td>\n",
       "      <td>7/25/2020</td>\n",
       "      <td>5:35</td>\n",
       "    </tr>\n",
       "    <tr>\n",
       "      <th>1</th>\n",
       "      <td>356</td>\n",
       "      <td>$21.19</td>\n",
       "      <td>0</td>\n",
       "      <td>125</td>\n",
       "      <td>8/10/2020</td>\n",
       "      <td>8:20</td>\n",
       "    </tr>\n",
       "    <tr>\n",
       "      <th>2</th>\n",
       "      <td>484</td>\n",
       "      <td>$20.24</td>\n",
       "      <td>1</td>\n",
       "      <td>51</td>\n",
       "      <td>10/14/2020</td>\n",
       "      <td>4:01</td>\n",
       "    </tr>\n",
       "    <tr>\n",
       "      <th>3</th>\n",
       "      <td>474</td>\n",
       "      <td>$94.20</td>\n",
       "      <td>1</td>\n",
       "      <td>206</td>\n",
       "      <td>10/5/2020</td>\n",
       "      <td>4:03</td>\n",
       "    </tr>\n",
       "    <tr>\n",
       "      <th>4</th>\n",
       "      <td>388</td>\n",
       "      <td>$67.04</td>\n",
       "      <td>0</td>\n",
       "      <td>244</td>\n",
       "      <td>10/5/2020</td>\n",
       "      <td>5:08</td>\n",
       "    </tr>\n",
       "    <tr>\n",
       "      <th>...</th>\n",
       "      <td>...</td>\n",
       "      <td>...</td>\n",
       "      <td>...</td>\n",
       "      <td>...</td>\n",
       "      <td>...</td>\n",
       "      <td>...</td>\n",
       "    </tr>\n",
       "    <tr>\n",
       "      <th>995</th>\n",
       "      <td>412</td>\n",
       "      <td>$1967.68</td>\n",
       "      <td>1</td>\n",
       "      <td>460</td>\n",
       "      <td>9/6/2020</td>\n",
       "      <td>10:39</td>\n",
       "    </tr>\n",
       "    <tr>\n",
       "      <th>996</th>\n",
       "      <td>307</td>\n",
       "      <td>$72.20</td>\n",
       "      <td>0</td>\n",
       "      <td>36</td>\n",
       "      <td>9/22/2020</td>\n",
       "      <td>6:13</td>\n",
       "    </tr>\n",
       "    <tr>\n",
       "      <th>997</th>\n",
       "      <td>10</td>\n",
       "      <td>$576.35</td>\n",
       "      <td>0</td>\n",
       "      <td>212</td>\n",
       "      <td>12/3/2020</td>\n",
       "      <td>12:28</td>\n",
       "    </tr>\n",
       "    <tr>\n",
       "      <th>998</th>\n",
       "      <td>475</td>\n",
       "      <td>$418.86</td>\n",
       "      <td>1</td>\n",
       "      <td>172</td>\n",
       "      <td>4/29/2020</td>\n",
       "      <td>19:29</td>\n",
       "    </tr>\n",
       "    <tr>\n",
       "      <th>999</th>\n",
       "      <td>156</td>\n",
       "      <td>$1481.93</td>\n",
       "      <td>0</td>\n",
       "      <td>318</td>\n",
       "      <td>10/30/2020</td>\n",
       "      <td>11:57</td>\n",
       "    </tr>\n",
       "  </tbody>\n",
       "</table>\n",
       "<p>10000 rows × 6 columns</p>\n",
       "</div>"
      ],
      "text/plain": [
       "     client_id    amount  sent(0=no)  contact_id        date   time\n",
       "0          417    $92.52           1         441   7/25/2020   5:35\n",
       "1          356    $21.19           0         125   8/10/2020   8:20\n",
       "2          484    $20.24           1          51  10/14/2020   4:01\n",
       "3          474    $94.20           1         206   10/5/2020   4:03\n",
       "4          388    $67.04           0         244   10/5/2020   5:08\n",
       "..         ...       ...         ...         ...         ...    ...\n",
       "995        412  $1967.68           1         460    9/6/2020  10:39\n",
       "996        307    $72.20           0          36   9/22/2020   6:13\n",
       "997         10   $576.35           0         212   12/3/2020  12:28\n",
       "998        475   $418.86           1         172   4/29/2020  19:29\n",
       "999        156  $1481.93           0         318  10/30/2020  11:57\n",
       "\n",
       "[10000 rows x 6 columns]"
      ]
     },
     "execution_count": 59,
     "metadata": {},
     "output_type": "execute_result"
    }
   ],
   "source": [
    "dfz.amount.str.replace('$', 'J')\n",
    "dfz"
   ]
  },
  {
   "cell_type": "code",
   "execution_count": 41,
   "metadata": {},
   "outputs": [
    {
     "data": {
      "text/plain": [
       "0        [$92.52]\n",
       "1        [$21.19]\n",
       "2        [$20.24]\n",
       "3        [$94.20]\n",
       "4        [$67.04]\n",
       "          ...    \n",
       "995    [$1967.68]\n",
       "996      [$72.20]\n",
       "997     [$576.35]\n",
       "998     [$418.86]\n",
       "999    [$1481.93]\n",
       "Name: amount, Length: 10000, dtype: object"
      ]
     },
     "execution_count": 41,
     "metadata": {},
     "output_type": "execute_result"
    }
   ],
   "source": [
    "a=lambda x: str(x).split(',')\n",
    "dfz['amount'].apply(a)    "
   ]
  },
  {
   "cell_type": "code",
   "execution_count": 49,
   "metadata": {},
   "outputs": [],
   "source": [
    "dfz['amount'] = dfz['amount'].astype(str)"
   ]
  },
  {
   "cell_type": "code",
   "execution_count": 50,
   "metadata": {},
   "outputs": [
    {
     "data": {
      "text/plain": [
       "client_id      int64\n",
       "amount        object\n",
       "sent(0=no)     int64\n",
       "contact_id     int64\n",
       "date          object\n",
       "time          object\n",
       "dtype: object"
      ]
     },
     "execution_count": 50,
     "metadata": {},
     "output_type": "execute_result"
    }
   ],
   "source": [
    "dfz.dtypes"
   ]
  },
  {
   "cell_type": "code",
   "execution_count": null,
   "metadata": {},
   "outputs": [],
   "source": []
  }
 ],
 "metadata": {
  "kernelspec": {
   "display_name": "Python 3",
   "language": "python",
   "name": "python3"
  },
  "language_info": {
   "codemirror_mode": {
    "name": "ipython",
    "version": 3
   },
   "file_extension": ".py",
   "mimetype": "text/x-python",
   "name": "python",
   "nbconvert_exporter": "python",
   "pygments_lexer": "ipython3",
   "version": "3.8.5"
  }
 },
 "nbformat": 4,
 "nbformat_minor": 4
}

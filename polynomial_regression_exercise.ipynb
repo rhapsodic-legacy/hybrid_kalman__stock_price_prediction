{
 "cells": [
  {
   "cell_type": "markdown",
   "metadata": {},
   "source": [
    "## Regression exercise\n",
    "#### ## Welcome in the part 1!!\n",
    "\n",
    "We are going to work with randomly generalize data and trying to fit different polynomial regressions to it and explore how our loss function behaves. We will use the formulas we introduced in theoretical sections and we will create linear regression model from scratch."
   ]
  },
  {
   "cell_type": "code",
   "execution_count": 1,
   "metadata": {},
   "outputs": [],
   "source": [
    "from pandas import DataFrame\n",
    "import statsmodels.api as sm\n",
    "import pandas as pd\n",
    "import numpy as np\n",
    "from sklearn.linear_model import LinearRegression\n",
    "import matplotlib.pyplot as plt"
   ]
  },
  {
   "cell_type": "markdown",
   "metadata": {},
   "source": [
    "#### Task 1\n",
    "\n",
    "Write a function psi(x,m) defined as $\\psi(x)=[1, x, x ^2, ..., x^m]$"
   ]
  },
  {
   "cell_type": "code",
   "execution_count": 4,
   "metadata": {},
   "outputs": [],
   "source": [
    "def psi(x,m):\n",
    "    psi_x = []\n",
    "    for i in range(m+1):\n",
    "        psi_x.append(pow(x,i))\n",
    "    return(psi_x)"
   ]
  },
  {
   "cell_type": "code",
   "execution_count": 5,
   "metadata": {},
   "outputs": [
    {
     "data": {
      "text/plain": [
       "[1, 2, 4, 8]"
      ]
     },
     "execution_count": 5,
     "metadata": {},
     "output_type": "execute_result"
    }
   ],
   "source": [
    "ps = psi(2,3)\n",
    "ps"
   ]
  },
  {
   "cell_type": "markdown",
   "metadata": {},
   "source": [
    "#### Task 2\n",
    "\n",
    "Write a function $h(x,\\alpha)$ defined as $h(x,\\alpha)=\\alpha^T\\psi(x)$"
   ]
  },
  {
   "cell_type": "code",
   "execution_count": 6,
   "metadata": {},
   "outputs": [],
   "source": [
    "def h(x,alpha):\n",
    "    a = np.array(alpha)\n",
    "    return(a.T.dot(x))"
   ]
  },
  {
   "cell_type": "code",
   "execution_count": 7,
   "metadata": {},
   "outputs": [],
   "source": [
    "alpha = [2,4,6,8]"
   ]
  },
  {
   "cell_type": "code",
   "execution_count": 8,
   "metadata": {},
   "outputs": [
    {
     "data": {
      "text/plain": [
       "98"
      ]
     },
     "execution_count": 8,
     "metadata": {},
     "output_type": "execute_result"
    }
   ],
   "source": [
    "h(ps,alpha)"
   ]
  },
  {
   "cell_type": "markdown",
   "metadata": {},
   "source": [
    "#### Task 3\n",
    "Create a random 3rd order polynomial (we call it p3)"
   ]
  },
  {
   "cell_type": "code",
   "execution_count": 9,
   "metadata": {},
   "outputs": [],
   "source": [
    "def p3(x):\n",
    "    return (x + pow(x,2) + pow(x,3)) # x^3 + x^2 + x^1"
   ]
  },
  {
   "cell_type": "markdown",
   "metadata": {},
   "source": [
    "#### Task 4\n",
    "Choose an interval [a,b], on which the polynomial is S-shaped."
   ]
  },
  {
   "cell_type": "code",
   "execution_count": 36,
   "metadata": {},
   "outputs": [
    {
     "data": {
      "text/plain": [
       "[<matplotlib.lines.Line2D at 0x2b3485e3f40>]"
      ]
     },
     "execution_count": 36,
     "metadata": {},
     "output_type": "execute_result"
    },
    {
     "data": {
      "image/png": "[encoded data removed]",
      "text/plain": [
       "<Figure size 720x360 with 1 Axes>"
      ]
     },
     "metadata": {
      "needs_background": "light"
     },
     "output_type": "display_data"
    }
   ],
   "source": [
    "fig, ax = plt.subplots(figsize=(10,5))\n",
    "x = np.linspace(-10,10) # Return evenly spaced numbers over a specified interval.\n",
    "ax.grid()\n",
    "ax.plot(x,p3(x))"
   ]
  },
  {
   "cell_type": "markdown",
   "metadata": {},
   "source": [
    "#### Task 5\n",
    "Sample 30 random values in [a,b] and stored them in `xs`."
   ]
  },
  {
   "cell_type": "code",
   "execution_count": 41,
   "metadata": {},
   "outputs": [
    {
     "data": {
      "text/plain": [
       "array([ 8.43574751,  7.2110278 , -2.94118728, -8.79437378,  4.24024725,\n",
       "       -6.83188955,  4.63698848, -2.55513513, -1.31842333,  0.10519312,\n",
       "       -0.20171877, -7.13930232, -0.19808894, -4.36777682,  7.9961175 ,\n",
       "       -5.74746899,  0.31488107,  6.91730416, -9.61438293, -6.52501631,\n",
       "        1.25524092, -1.03401183, -5.91918813, -8.49785616, -5.71506315,\n",
       "       -4.07782833,  7.20524018,  6.35009663,  2.42183991, -7.02922244])"
      ]
     },
     "execution_count": 41,
     "metadata": {},
     "output_type": "execute_result"
    }
   ],
   "source": [
    "xs = np.random.uniform(-10, 10, 30) # get random data\n",
    "xs"
   ]
  },
  {
   "cell_type": "markdown",
   "metadata": {},
   "source": [
    "#### Task 6\n",
    "For each x in xs, compute p3(x) and store them as `ys`."
   ]
  },
  {
   "cell_type": "code",
   "execution_count": 43,
   "metadata": {},
   "outputs": [
    {
     "data": {
      "text/plain": [
       "(30,)"
      ]
     },
     "execution_count": 43,
     "metadata": {},
     "output_type": "execute_result"
    }
   ],
   "source": [
    "ys = p3(xs)\n",
    "ys.shape"
   ]
  },
  {
   "cell_type": "markdown",
   "metadata": {},
   "source": [
    "#### Task 7:\n",
    "Plot `ys` against `xs` on [a,b]. Does it look like a third order polynomial?"
   ]
  },
  {
   "cell_type": "code",
   "execution_count": 97,
   "metadata": {},
   "outputs": [
    {
     "data": {
      "text/plain": [
       "<matplotlib.collections.PathCollection at 0x2b349830070>"
      ]
     },
     "execution_count": 97,
     "metadata": {},
     "output_type": "execute_result"
    },
    {
     "data": {
      "image/png": "[encoded data removed]",
      "text/plain": [
       "<Figure size 720x360 with 1 Axes>"
      ]
     },
     "metadata": {
      "needs_background": "light"
     },
     "output_type": "display_data"
    }
   ],
   "source": [
    "fig, ax = plt.subplots(figsize=(10,5))\n",
    "x = np.linspace(-10,10)\n",
    "ax.grid()\n",
    "ax.scatter(xs,ys)"
   ]
  },
  {
   "cell_type": "markdown",
   "metadata": {},
   "source": [
    "## Fitting the data"
   ]
  },
  {
   "cell_type": "markdown",
   "metadata": {},
   "source": [
    "We will try to fit the data by a polynomial of order m=2. \n",
    "\n",
    "#### Task 8:\n",
    "\n",
    "Using xs and psi, create the matrix X defined as \n",
    "\n",
    "<img src=\"matrixX.png\">"
   ]
  },
  {
   "cell_type": "code",
   "execution_count": 65,
   "metadata": {},
   "outputs": [],
   "source": [
    "X_arrays = psi(xs,2)"
   ]
  },
  {
   "cell_type": "code",
   "execution_count": 78,
   "metadata": {},
   "outputs": [],
   "source": [
    "# sort the rows of X_arrays for the concatnation\n",
    "rows = []\n",
    "for row in X_arrays:\n",
    "    rows.append(pd.Series(row))"
   ]
  },
  {
   "cell_type": "code",
   "execution_count": 79,
   "metadata": {},
   "outputs": [
    {
     "data": {
      "text/html": [
       "<div>\n",
       "<style scoped>\n",
       "    .dataframe tbody tr th:only-of-type {\n",
       "        vertical-align: middle;\n",
       "    }\n",
       "\n",
       "    .dataframe tbody tr th {\n",
       "        vertical-align: top;\n",
       "    }\n",
       "\n",
       "    .dataframe thead th {\n",
       "        text-align: right;\n",
       "    }\n",
       "</style>\n",
       "<table border=\"1\" class=\"dataframe\">\n",
       "  <thead>\n",
       "    <tr style=\"text-align: right;\">\n",
       "      <th></th>\n",
       "      <th>0</th>\n",
       "      <th>1</th>\n",
       "      <th>2</th>\n",
       "      <th>3</th>\n",
       "      <th>4</th>\n",
       "      <th>5</th>\n",
       "      <th>6</th>\n",
       "      <th>7</th>\n",
       "      <th>8</th>\n",
       "      <th>9</th>\n",
       "      <th>...</th>\n",
       "      <th>20</th>\n",
       "      <th>21</th>\n",
       "      <th>22</th>\n",
       "      <th>23</th>\n",
       "      <th>24</th>\n",
       "      <th>25</th>\n",
       "      <th>26</th>\n",
       "      <th>27</th>\n",
       "      <th>28</th>\n",
       "      <th>29</th>\n",
       "    </tr>\n",
       "  </thead>\n",
       "  <tbody>\n",
       "    <tr>\n",
       "      <th>0</th>\n",
       "      <td>1.000000</td>\n",
       "      <td>1.000000</td>\n",
       "      <td>1.000000</td>\n",
       "      <td>1.000000</td>\n",
       "      <td>1.000000</td>\n",
       "      <td>1.000000</td>\n",
       "      <td>1.000000</td>\n",
       "      <td>1.000000</td>\n",
       "      <td>1.000000</td>\n",
       "      <td>1.000000</td>\n",
       "      <td>...</td>\n",
       "      <td>1.000000</td>\n",
       "      <td>1.000000</td>\n",
       "      <td>1.000000</td>\n",
       "      <td>1.000000</td>\n",
       "      <td>1.000000</td>\n",
       "      <td>1.000000</td>\n",
       "      <td>1.000000</td>\n",
       "      <td>1.000000</td>\n",
       "      <td>1.000000</td>\n",
       "      <td>1.000000</td>\n",
       "    </tr>\n",
       "    <tr>\n",
       "      <th>1</th>\n",
       "      <td>8.435748</td>\n",
       "      <td>7.211028</td>\n",
       "      <td>-2.941187</td>\n",
       "      <td>-8.794374</td>\n",
       "      <td>4.240247</td>\n",
       "      <td>-6.831890</td>\n",
       "      <td>4.636988</td>\n",
       "      <td>-2.555135</td>\n",
       "      <td>-1.318423</td>\n",
       "      <td>0.105193</td>\n",
       "      <td>...</td>\n",
       "      <td>1.255241</td>\n",
       "      <td>-1.034012</td>\n",
       "      <td>-5.919188</td>\n",
       "      <td>-8.497856</td>\n",
       "      <td>-5.715063</td>\n",
       "      <td>-4.077828</td>\n",
       "      <td>7.205240</td>\n",
       "      <td>6.350097</td>\n",
       "      <td>2.421840</td>\n",
       "      <td>-7.029222</td>\n",
       "    </tr>\n",
       "    <tr>\n",
       "      <th>2</th>\n",
       "      <td>71.161836</td>\n",
       "      <td>51.998922</td>\n",
       "      <td>8.650583</td>\n",
       "      <td>77.341010</td>\n",
       "      <td>17.979697</td>\n",
       "      <td>46.674715</td>\n",
       "      <td>21.501662</td>\n",
       "      <td>6.528716</td>\n",
       "      <td>1.738240</td>\n",
       "      <td>0.011066</td>\n",
       "      <td>...</td>\n",
       "      <td>1.575630</td>\n",
       "      <td>1.069180</td>\n",
       "      <td>35.036788</td>\n",
       "      <td>72.213559</td>\n",
       "      <td>32.661947</td>\n",
       "      <td>16.628684</td>\n",
       "      <td>51.915486</td>\n",
       "      <td>40.323727</td>\n",
       "      <td>5.865309</td>\n",
       "      <td>49.409968</td>\n",
       "    </tr>\n",
       "  </tbody>\n",
       "</table>\n",
       "<p>3 rows × 30 columns</p>\n",
       "</div>"
      ],
      "text/plain": [
       "          0          1         2          3          4          5          6   \\\n",
       "0   1.000000   1.000000  1.000000   1.000000   1.000000   1.000000   1.000000   \n",
       "1   8.435748   7.211028 -2.941187  -8.794374   4.240247  -6.831890   4.636988   \n",
       "2  71.161836  51.998922  8.650583  77.341010  17.979697  46.674715  21.501662   \n",
       "\n",
       "         7         8         9   ...        20        21         22  \\\n",
       "0  1.000000  1.000000  1.000000  ...  1.000000  1.000000   1.000000   \n",
       "1 -2.555135 -1.318423  0.105193  ...  1.255241 -1.034012  -5.919188   \n",
       "2  6.528716  1.738240  0.011066  ...  1.575630  1.069180  35.036788   \n",
       "\n",
       "          23         24         25         26         27        28         29  \n",
       "0   1.000000   1.000000   1.000000   1.000000   1.000000  1.000000   1.000000  \n",
       "1  -8.497856  -5.715063  -4.077828   7.205240   6.350097  2.421840  -7.029222  \n",
       "2  72.213559  32.661947  16.628684  51.915486  40.323727  5.865309  49.409968  \n",
       "\n",
       "[3 rows x 30 columns]"
      ]
     },
     "execution_count": 79,
     "metadata": {},
     "output_type": "execute_result"
    }
   ],
   "source": [
    "# Concatnate the rows and take the transpose\n",
    "\n",
    "X_mat = pd.concat(rows, axis = 1).T\n",
    "X_mat"
   ]
  },
  {
   "cell_type": "markdown",
   "metadata": {},
   "source": [
    "#### Task 9\n",
    "Compute the optimal $\\alpha$ using the expression $\\alpha = (XX^T)^+Xy$ where $(XX^T)^+$ is the pseudoinverse matrix. y is our `ys` from the Task 6."
   ]
  },
  {
   "cell_type": "code",
   "execution_count": 80,
   "metadata": {},
   "outputs": [],
   "source": [
    "# np.linalg.pinv Calculates the generalized inverse of a matrix using its singular-value decomposition (SVD) \n",
    "# and including all large singular values.\n",
    "\n",
    "a = np.linalg.pinv(X_mat.dot(X_mat.T)).dot(X_mat.dot(ys))"
   ]
  },
  {
   "cell_type": "markdown",
   "metadata": {},
   "source": [
    "#### Task 10\n",
    "Plot the data and the computed polynomial. Does it fit?"
   ]
  },
  {
   "cell_type": "code",
   "execution_count": 81,
   "metadata": {},
   "outputs": [],
   "source": [
    "# 2nd degree polynomial function to calculate.\n",
    "def p2(x):\n",
    "    return (1 + x + x**2)"
   ]
  },
  {
   "cell_type": "code",
   "execution_count": 98,
   "metadata": {},
   "outputs": [
    {
     "name": "stdout",
     "output_type": "stream",
     "text": [
      "7.721938989248464e-20\n"
     ]
    },
    {
     "data": {
      "text/plain": [
       "[<matplotlib.lines.Line2D at 0x2b349c459a0>]"
      ]
     },
     "execution_count": 98,
     "metadata": {},
     "output_type": "execute_result"
    },
    {
     "data": {
      "image/png": "[encoded data removed]",
      "text/plain": [
       "<Figure size 1152x576 with 1 Axes>"
      ]
     },
     "metadata": {
      "needs_background": "light"
     },
     "output_type": "display_data"
    }
   ],
   "source": [
    "print(sum((a.T.dot(X_mat)-ys)**2))\n",
    "fig, ax = plt.subplots(figsize=(16,8))\n",
    "ax.set_xlim((-10, 10))\n",
    "ax.set_ylim((-800, 600))\n",
    "ax.scatter(xs,ys)\n",
    "ax.grid()\n",
    "ax.plot(x,p2(x))"
   ]
  },
  {
   "cell_type": "markdown",
   "metadata": {},
   "source": [
    "#### Task 11\n",
    "Repeat the process for m=3,…,10. What do you observe?"
   ]
  },
  {
   "cell_type": "code",
   "execution_count": 83,
   "metadata": {},
   "outputs": [],
   "source": [
    "def p(x,a):\n",
    "    return (a[0] + a[1]*x + pow(a[2]*x,2) + pow(a[3]*x,3))"
   ]
  },
  {
   "cell_type": "code",
   "execution_count": 86,
   "metadata": {},
   "outputs": [],
   "source": [
    "X_arrays = psi(xs,3)\n",
    "# sort the rows of X_arrays for the concatnation\n",
    "rows = []\n",
    "for row in X_arrays:\n",
    "    rows.append(pd.Series(row))"
   ]
  },
  {
   "cell_type": "code",
   "execution_count": 87,
   "metadata": {},
   "outputs": [
    {
     "data": {
      "text/html": [
       "<div>\n",
       "<style scoped>\n",
       "    .dataframe tbody tr th:only-of-type {\n",
       "        vertical-align: middle;\n",
       "    }\n",
       "\n",
       "    .dataframe tbody tr th {\n",
       "        vertical-align: top;\n",
       "    }\n",
       "\n",
       "    .dataframe thead th {\n",
       "        text-align: right;\n",
       "    }\n",
       "</style>\n",
       "<table border=\"1\" class=\"dataframe\">\n",
       "  <thead>\n",
       "    <tr style=\"text-align: right;\">\n",
       "      <th></th>\n",
       "      <th>0</th>\n",
       "      <th>1</th>\n",
       "      <th>2</th>\n",
       "      <th>3</th>\n",
       "      <th>4</th>\n",
       "      <th>5</th>\n",
       "      <th>6</th>\n",
       "      <th>7</th>\n",
       "      <th>8</th>\n",
       "      <th>9</th>\n",
       "      <th>...</th>\n",
       "      <th>20</th>\n",
       "      <th>21</th>\n",
       "      <th>22</th>\n",
       "      <th>23</th>\n",
       "      <th>24</th>\n",
       "      <th>25</th>\n",
       "      <th>26</th>\n",
       "      <th>27</th>\n",
       "      <th>28</th>\n",
       "      <th>29</th>\n",
       "    </tr>\n",
       "  </thead>\n",
       "  <tbody>\n",
       "    <tr>\n",
       "      <th>0</th>\n",
       "      <td>1.000000</td>\n",
       "      <td>1.000000</td>\n",
       "      <td>1.000000</td>\n",
       "      <td>1.000000</td>\n",
       "      <td>1.000000</td>\n",
       "      <td>1.000000</td>\n",
       "      <td>1.000000</td>\n",
       "      <td>1.000000</td>\n",
       "      <td>1.000000</td>\n",
       "      <td>1.000000</td>\n",
       "      <td>...</td>\n",
       "      <td>1.000000</td>\n",
       "      <td>1.000000</td>\n",
       "      <td>1.000000</td>\n",
       "      <td>1.000000</td>\n",
       "      <td>1.000000</td>\n",
       "      <td>1.000000</td>\n",
       "      <td>1.000000</td>\n",
       "      <td>1.000000</td>\n",
       "      <td>1.000000</td>\n",
       "      <td>1.000000</td>\n",
       "    </tr>\n",
       "    <tr>\n",
       "      <th>1</th>\n",
       "      <td>8.435748</td>\n",
       "      <td>7.211028</td>\n",
       "      <td>-2.941187</td>\n",
       "      <td>-8.794374</td>\n",
       "      <td>4.240247</td>\n",
       "      <td>-6.831890</td>\n",
       "      <td>4.636988</td>\n",
       "      <td>-2.555135</td>\n",
       "      <td>-1.318423</td>\n",
       "      <td>0.105193</td>\n",
       "      <td>...</td>\n",
       "      <td>1.255241</td>\n",
       "      <td>-1.034012</td>\n",
       "      <td>-5.919188</td>\n",
       "      <td>-8.497856</td>\n",
       "      <td>-5.715063</td>\n",
       "      <td>-4.077828</td>\n",
       "      <td>7.205240</td>\n",
       "      <td>6.350097</td>\n",
       "      <td>2.421840</td>\n",
       "      <td>-7.029222</td>\n",
       "    </tr>\n",
       "    <tr>\n",
       "      <th>2</th>\n",
       "      <td>71.161836</td>\n",
       "      <td>51.998922</td>\n",
       "      <td>8.650583</td>\n",
       "      <td>77.341010</td>\n",
       "      <td>17.979697</td>\n",
       "      <td>46.674715</td>\n",
       "      <td>21.501662</td>\n",
       "      <td>6.528716</td>\n",
       "      <td>1.738240</td>\n",
       "      <td>0.011066</td>\n",
       "      <td>...</td>\n",
       "      <td>1.575630</td>\n",
       "      <td>1.069180</td>\n",
       "      <td>35.036788</td>\n",
       "      <td>72.213559</td>\n",
       "      <td>32.661947</td>\n",
       "      <td>16.628684</td>\n",
       "      <td>51.915486</td>\n",
       "      <td>40.323727</td>\n",
       "      <td>5.865309</td>\n",
       "      <td>49.409968</td>\n",
       "    </tr>\n",
       "    <tr>\n",
       "      <th>3</th>\n",
       "      <td>600.303281</td>\n",
       "      <td>374.965672</td>\n",
       "      <td>-25.442983</td>\n",
       "      <td>-680.165751</td>\n",
       "      <td>76.238360</td>\n",
       "      <td>-318.876497</td>\n",
       "      <td>99.702960</td>\n",
       "      <td>-16.681750</td>\n",
       "      <td>-2.291736</td>\n",
       "      <td>0.001164</td>\n",
       "      <td>...</td>\n",
       "      <td>1.977795</td>\n",
       "      <td>-1.105545</td>\n",
       "      <td>-207.389340</td>\n",
       "      <td>-613.660439</td>\n",
       "      <td>-186.665089</td>\n",
       "      <td>-67.808918</td>\n",
       "      <td>374.063547</td>\n",
       "      <td>256.059565</td>\n",
       "      <td>14.204838</td>\n",
       "      <td>-347.313656</td>\n",
       "    </tr>\n",
       "  </tbody>\n",
       "</table>\n",
       "<p>4 rows × 30 columns</p>\n",
       "</div>"
      ],
      "text/plain": [
       "           0           1          2           3          4           5   \\\n",
       "0    1.000000    1.000000   1.000000    1.000000   1.000000    1.000000   \n",
       "1    8.435748    7.211028  -2.941187   -8.794374   4.240247   -6.831890   \n",
       "2   71.161836   51.998922   8.650583   77.341010  17.979697   46.674715   \n",
       "3  600.303281  374.965672 -25.442983 -680.165751  76.238360 -318.876497   \n",
       "\n",
       "          6          7         8         9   ...        20        21  \\\n",
       "0   1.000000   1.000000  1.000000  1.000000  ...  1.000000  1.000000   \n",
       "1   4.636988  -2.555135 -1.318423  0.105193  ...  1.255241 -1.034012   \n",
       "2  21.501662   6.528716  1.738240  0.011066  ...  1.575630  1.069180   \n",
       "3  99.702960 -16.681750 -2.291736  0.001164  ...  1.977795 -1.105545   \n",
       "\n",
       "           22          23          24         25          26          27  \\\n",
       "0    1.000000    1.000000    1.000000   1.000000    1.000000    1.000000   \n",
       "1   -5.919188   -8.497856   -5.715063  -4.077828    7.205240    6.350097   \n",
       "2   35.036788   72.213559   32.661947  16.628684   51.915486   40.323727   \n",
       "3 -207.389340 -613.660439 -186.665089 -67.808918  374.063547  256.059565   \n",
       "\n",
       "          28          29  \n",
       "0   1.000000    1.000000  \n",
       "1   2.421840   -7.029222  \n",
       "2   5.865309   49.409968  \n",
       "3  14.204838 -347.313656  \n",
       "\n",
       "[4 rows x 30 columns]"
      ]
     },
     "execution_count": 87,
     "metadata": {},
     "output_type": "execute_result"
    }
   ],
   "source": [
    "X_mat = pd.concat(rows, axis = 1).T\n",
    "X_mat"
   ]
  },
  {
   "cell_type": "code",
   "execution_count": 88,
   "metadata": {},
   "outputs": [
    {
     "data": {
      "text/plain": [
       "array([7.11618360e+01, 5.19989219e+01, 8.65058260e+00, 7.73410101e+01,\n",
       "       1.79796968e+01, 4.66747149e+01, 2.15016622e+01, 6.52871554e+00,\n",
       "       1.73824006e+00, 1.10655926e-02, 4.06904602e-02, 5.09696376e+01,\n",
       "       3.92392283e-02, 1.90774744e+01, 6.39378951e+01, 3.30333998e+01,\n",
       "       9.91500869e-02, 4.78490968e+01, 9.24363592e+01, 4.25758378e+01,\n",
       "       1.57562977e+00, 1.06918047e+00, 3.50367881e+01, 7.22135592e+01,\n",
       "       3.26619468e+01, 1.66286839e+01, 5.19154861e+01, 4.03237273e+01,\n",
       "       5.86530857e+00, 4.94099681e+01])"
      ]
     },
     "execution_count": 88,
     "metadata": {},
     "output_type": "execute_result"
    }
   ],
   "source": [
    "np.array(X_arrays[2])"
   ]
  },
  {
   "cell_type": "code",
   "execution_count": 89,
   "metadata": {},
   "outputs": [
    {
     "data": {
      "text/plain": [
       "array([1.38768996e-11, 1.00000000e+00, 1.00000000e+00, 1.00000000e+00])"
      ]
     },
     "execution_count": 89,
     "metadata": {},
     "output_type": "execute_result"
    }
   ],
   "source": [
    "a = np.linalg.pinv(X_mat.dot(X_mat.T)).dot(X_mat.dot(ys))\n",
    "a"
   ]
  },
  {
   "cell_type": "code",
   "execution_count": 99,
   "metadata": {},
   "outputs": [
    {
     "name": "stdout",
     "output_type": "stream",
     "text": [
      "7.721938989248464e-20\n"
     ]
    },
    {
     "data": {
      "text/plain": [
       "[<matplotlib.lines.Line2D at 0x2b349c74250>]"
      ]
     },
     "execution_count": 99,
     "metadata": {},
     "output_type": "execute_result"
    },
    {
     "data": {
      "image/png": "[encoded data removed]",
      "text/plain": [
       "<Figure size 1152x576 with 1 Axes>"
      ]
     },
     "metadata": {
      "needs_background": "light"
     },
     "output_type": "display_data"
    }
   ],
   "source": [
    "print(sum(pow((a.T.dot(X_mat)-ys),2)))\n",
    "fig, ax = plt.subplots(figsize=(16,8))\n",
    "ax.set_xlim((-10, 10))\n",
    "ax.set_ylim((-800, 600))\n",
    "ax.scatter(xs,ys)\n",
    "ax.grid()\n",
    "ax.plot(x,p(x,a))"
   ]
  },
  {
   "cell_type": "markdown",
   "metadata": {},
   "source": [
    "#### Task 12\n",
    "Plot the value of the loss (defined as $ l(\\alpha^Tx, y) = \\sum(\\alpha^Tx - y)^2 $  ) for m=2,…,10. y is our `ys` from the Task 6. What do you observe? Could you tell the optimal m from the plot?"
   ]
  },
  {
   "cell_type": "code",
   "execution_count": 91,
   "metadata": {},
   "outputs": [],
   "source": [
    "def p4(x,a):\n",
    "    return (a[0] + a[1]*x + pow(a[2]*x,2) + pow(a[3]*x,3) + pow(a[4]*x,4))"
   ]
  },
  {
   "cell_type": "code",
   "execution_count": 101,
   "metadata": {},
   "outputs": [],
   "source": [
    "X_arrays = psi(xs,4)\n",
    "# sort the rows of X_arrays for the concatnation\n",
    "rows = []\n",
    "for row in X_arrays:\n",
    "    rows.append(pd.Series(row))"
   ]
  },
  {
   "cell_type": "code",
   "execution_count": 93,
   "metadata": {},
   "outputs": [
    {
     "data": {
      "text/plain": [
       "5"
      ]
     },
     "execution_count": 93,
     "metadata": {},
     "output_type": "execute_result"
    }
   ],
   "source": [
    "len(X_arrays)"
   ]
  },
  {
   "cell_type": "code",
   "execution_count": 102,
   "metadata": {},
   "outputs": [
    {
     "data": {
      "text/html": [
       "<div>\n",
       "<style scoped>\n",
       "    .dataframe tbody tr th:only-of-type {\n",
       "        vertical-align: middle;\n",
       "    }\n",
       "\n",
       "    .dataframe tbody tr th {\n",
       "        vertical-align: top;\n",
       "    }\n",
       "\n",
       "    .dataframe thead th {\n",
       "        text-align: right;\n",
       "    }\n",
       "</style>\n",
       "<table border=\"1\" class=\"dataframe\">\n",
       "  <thead>\n",
       "    <tr style=\"text-align: right;\">\n",
       "      <th></th>\n",
       "      <th>0</th>\n",
       "      <th>1</th>\n",
       "      <th>2</th>\n",
       "      <th>3</th>\n",
       "      <th>4</th>\n",
       "      <th>5</th>\n",
       "      <th>6</th>\n",
       "      <th>7</th>\n",
       "      <th>8</th>\n",
       "      <th>9</th>\n",
       "      <th>...</th>\n",
       "      <th>20</th>\n",
       "      <th>21</th>\n",
       "      <th>22</th>\n",
       "      <th>23</th>\n",
       "      <th>24</th>\n",
       "      <th>25</th>\n",
       "      <th>26</th>\n",
       "      <th>27</th>\n",
       "      <th>28</th>\n",
       "      <th>29</th>\n",
       "    </tr>\n",
       "  </thead>\n",
       "  <tbody>\n",
       "    <tr>\n",
       "      <th>0</th>\n",
       "      <td>1.000000</td>\n",
       "      <td>1.000000</td>\n",
       "      <td>1.000000</td>\n",
       "      <td>1.000000</td>\n",
       "      <td>1.000000</td>\n",
       "      <td>1.000000</td>\n",
       "      <td>1.000000</td>\n",
       "      <td>1.000000</td>\n",
       "      <td>1.000000</td>\n",
       "      <td>1.000000</td>\n",
       "      <td>...</td>\n",
       "      <td>1.000000</td>\n",
       "      <td>1.000000</td>\n",
       "      <td>1.000000</td>\n",
       "      <td>1.000000</td>\n",
       "      <td>1.000000</td>\n",
       "      <td>1.000000</td>\n",
       "      <td>1.000000</td>\n",
       "      <td>1.000000</td>\n",
       "      <td>1.000000</td>\n",
       "      <td>1.000000</td>\n",
       "    </tr>\n",
       "    <tr>\n",
       "      <th>1</th>\n",
       "      <td>8.435748</td>\n",
       "      <td>7.211028</td>\n",
       "      <td>-2.941187</td>\n",
       "      <td>-8.794374</td>\n",
       "      <td>4.240247</td>\n",
       "      <td>-6.831890</td>\n",
       "      <td>4.636988</td>\n",
       "      <td>-2.555135</td>\n",
       "      <td>-1.318423</td>\n",
       "      <td>0.105193</td>\n",
       "      <td>...</td>\n",
       "      <td>1.255241</td>\n",
       "      <td>-1.034012</td>\n",
       "      <td>-5.919188</td>\n",
       "      <td>-8.497856</td>\n",
       "      <td>-5.715063</td>\n",
       "      <td>-4.077828</td>\n",
       "      <td>7.205240</td>\n",
       "      <td>6.350097</td>\n",
       "      <td>2.421840</td>\n",
       "      <td>-7.029222</td>\n",
       "    </tr>\n",
       "    <tr>\n",
       "      <th>2</th>\n",
       "      <td>71.161836</td>\n",
       "      <td>51.998922</td>\n",
       "      <td>8.650583</td>\n",
       "      <td>77.341010</td>\n",
       "      <td>17.979697</td>\n",
       "      <td>46.674715</td>\n",
       "      <td>21.501662</td>\n",
       "      <td>6.528716</td>\n",
       "      <td>1.738240</td>\n",
       "      <td>0.011066</td>\n",
       "      <td>...</td>\n",
       "      <td>1.575630</td>\n",
       "      <td>1.069180</td>\n",
       "      <td>35.036788</td>\n",
       "      <td>72.213559</td>\n",
       "      <td>32.661947</td>\n",
       "      <td>16.628684</td>\n",
       "      <td>51.915486</td>\n",
       "      <td>40.323727</td>\n",
       "      <td>5.865309</td>\n",
       "      <td>49.409968</td>\n",
       "    </tr>\n",
       "    <tr>\n",
       "      <th>3</th>\n",
       "      <td>600.303281</td>\n",
       "      <td>374.965672</td>\n",
       "      <td>-25.442983</td>\n",
       "      <td>-680.165751</td>\n",
       "      <td>76.238360</td>\n",
       "      <td>-318.876497</td>\n",
       "      <td>99.702960</td>\n",
       "      <td>-16.681750</td>\n",
       "      <td>-2.291736</td>\n",
       "      <td>0.001164</td>\n",
       "      <td>...</td>\n",
       "      <td>1.977795</td>\n",
       "      <td>-1.105545</td>\n",
       "      <td>-207.389340</td>\n",
       "      <td>-613.660439</td>\n",
       "      <td>-186.665089</td>\n",
       "      <td>-67.808918</td>\n",
       "      <td>374.063547</td>\n",
       "      <td>256.059565</td>\n",
       "      <td>14.204838</td>\n",
       "      <td>-347.313656</td>\n",
       "    </tr>\n",
       "    <tr>\n",
       "      <th>4</th>\n",
       "      <td>5064.006905</td>\n",
       "      <td>2703.887883</td>\n",
       "      <td>74.832579</td>\n",
       "      <td>5981.631849</td>\n",
       "      <td>323.269495</td>\n",
       "      <td>2178.529009</td>\n",
       "      <td>462.321476</td>\n",
       "      <td>42.624127</td>\n",
       "      <td>3.021479</td>\n",
       "      <td>0.000122</td>\n",
       "      <td>...</td>\n",
       "      <td>2.482609</td>\n",
       "      <td>1.143147</td>\n",
       "      <td>1227.576518</td>\n",
       "      <td>5214.798139</td>\n",
       "      <td>1066.802771</td>\n",
       "      <td>276.513129</td>\n",
       "      <td>2695.217697</td>\n",
       "      <td>1626.002981</td>\n",
       "      <td>34.401845</td>\n",
       "      <td>2441.344944</td>\n",
       "    </tr>\n",
       "  </tbody>\n",
       "</table>\n",
       "<p>5 rows × 30 columns</p>\n",
       "</div>"
      ],
      "text/plain": [
       "            0            1          2            3           4            5   \\\n",
       "0     1.000000     1.000000   1.000000     1.000000    1.000000     1.000000   \n",
       "1     8.435748     7.211028  -2.941187    -8.794374    4.240247    -6.831890   \n",
       "2    71.161836    51.998922   8.650583    77.341010   17.979697    46.674715   \n",
       "3   600.303281   374.965672 -25.442983  -680.165751   76.238360  -318.876497   \n",
       "4  5064.006905  2703.887883  74.832579  5981.631849  323.269495  2178.529009   \n",
       "\n",
       "           6          7         8         9   ...        20        21  \\\n",
       "0    1.000000   1.000000  1.000000  1.000000  ...  1.000000  1.000000   \n",
       "1    4.636988  -2.555135 -1.318423  0.105193  ...  1.255241 -1.034012   \n",
       "2   21.501662   6.528716  1.738240  0.011066  ...  1.575630  1.069180   \n",
       "3   99.702960 -16.681750 -2.291736  0.001164  ...  1.977795 -1.105545   \n",
       "4  462.321476  42.624127  3.021479  0.000122  ...  2.482609  1.143147   \n",
       "\n",
       "            22           23           24          25           26  \\\n",
       "0     1.000000     1.000000     1.000000    1.000000     1.000000   \n",
       "1    -5.919188    -8.497856    -5.715063   -4.077828     7.205240   \n",
       "2    35.036788    72.213559    32.661947   16.628684    51.915486   \n",
       "3  -207.389340  -613.660439  -186.665089  -67.808918   374.063547   \n",
       "4  1227.576518  5214.798139  1066.802771  276.513129  2695.217697   \n",
       "\n",
       "            27         28           29  \n",
       "0     1.000000   1.000000     1.000000  \n",
       "1     6.350097   2.421840    -7.029222  \n",
       "2    40.323727   5.865309    49.409968  \n",
       "3   256.059565  14.204838  -347.313656  \n",
       "4  1626.002981  34.401845  2441.344944  \n",
       "\n",
       "[5 rows x 30 columns]"
      ]
     },
     "execution_count": 102,
     "metadata": {},
     "output_type": "execute_result"
    }
   ],
   "source": [
    "X_mat = pd.concat(rows, axis = 1).T\n",
    "X_mat"
   ]
  },
  {
   "cell_type": "code",
   "execution_count": 95,
   "metadata": {},
   "outputs": [
    {
     "data": {
      "text/plain": [
       "array([-9.27684596e-11,  1.00000000e+00,  1.00000000e+00,  1.00000000e+00,\n",
       "       -4.75175455e-14])"
      ]
     },
     "execution_count": 95,
     "metadata": {},
     "output_type": "execute_result"
    }
   ],
   "source": [
    "a = np.linalg.pinv(X_mat.dot(X_mat.T)).dot(X_mat.dot(ys))\n",
    "a"
   ]
  },
  {
   "cell_type": "code",
   "execution_count": 100,
   "metadata": {},
   "outputs": [
    {
     "name": "stdout",
     "output_type": "stream",
     "text": [
      "7.721938989248464e-20\n"
     ]
    },
    {
     "data": {
      "text/plain": [
       "[<matplotlib.lines.Line2D at 0x2b349ea7190>]"
      ]
     },
     "execution_count": 100,
     "metadata": {},
     "output_type": "execute_result"
    },
    {
     "data": {
      "image/png": "[encoded data removed]",
      "text/plain": [
       "<Figure size 1152x576 with 1 Axes>"
      ]
     },
     "metadata": {
      "needs_background": "light"
     },
     "output_type": "display_data"
    }
   ],
   "source": [
    "print(sum((a.T.dot(X_mat)-ys)**2))\n",
    "fig, ax = plt.subplots(figsize=(16,8))\n",
    "ax.set_xlim((-10, 10))\n",
    "ax.set_ylim((-800, 600))\n",
    "ax.scatter(xs,ys)\n",
    "ax.grid()\n",
    "ax.plot(x,p4(x,a))"
   ]
  },
  {
   "cell_type": "code",
   "execution_count": null,
   "metadata": {},
   "outputs": [],
   "source": []
  }
 ],
 "metadata": {
  "kernelspec": {
   "display_name": "lhl_env",
   "language": "python",
   "name": "lhl_env"
  },
  "language_info": {
   "codemirror_mode": {
    "name": "ipython",
    "version": 3
   },
   "file_extension": ".py",
   "mimetype": "text/x-python",
   "name": "python",
   "nbconvert_exporter": "python",
   "pygments_lexer": "ipython3",
   "version": "3.8.5"
  }
 },
 "nbformat": 4,
 "nbformat_minor": 4
}
